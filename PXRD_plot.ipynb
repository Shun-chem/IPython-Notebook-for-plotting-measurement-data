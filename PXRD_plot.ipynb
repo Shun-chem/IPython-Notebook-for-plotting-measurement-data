{
 "cells": [
  {
   "cell_type": "code",
   "execution_count": null,
   "metadata": {
    "scrolled": true
   },
   "outputs": [],
   "source": [
    "%matplotlib inline\n",
    "### Code to plot PXRD data\n",
    "import numpy as np\n",
    "import pandas as pd\n",
    "import matplotlib.pyplot as plt\n",
    "import matplotlib as mpl\n",
    "\n",
    "# Comments before the run\n",
    "print('Every data has to be converted to xy text data or xy excel data')\n",
    "\n",
    "# Input of the number of PXRD data to plot\n",
    "n = int(input('How many data to plot?'))\n",
    "\n",
    "# Creation of a space for graph \n",
    "plt.style.use('default')\n",
    "plt.figure(1, figsize=(20,20))\n",
    "plt.clf()\n",
    "\n",
    "# Input of Data and ploting\n",
    "print('Input data in the order of bottom to top in a graph')\n",
    "for i in range(n):\n",
    "    print('')\n",
    "    print('Data',i+1,'/',n)\n",
    "    d_legend = str(input('Input the legend'))\n",
    "    print('Select xy data and copy it to clipboard')\n",
    "    input('Input Enter to plot the data')\n",
    "    data = pd.read_clipboard()\n",
    "    data.columns = [0,1]\n",
    "    #normalization\n",
    "    y_max = data[1].max()\n",
    "    data[1] = data[1]/y_max + 0.25*i\n",
    "    plt.plot(data[0],data[1], marker='.',linewidth=1, markersize=0.1, label=d_legend, color=str(input('Color of line')))\n",
    "\n",
    "# Edit plot setting\n",
    "plt.xlabel('2 theta (degree)', fontsize=20)\n",
    "plt.ylabel('Intensity (a.u.)', fontsize=20)\n",
    "plt.tick_params(labelsize = 15)\n",
    "#plt.legend(fontsize=20)\n",
    "plt.xlim([5,40])\n",
    "plt.title(input('Graph title? '), fontsize=30)\n",
    "plt.show(1)"
   ]
  },
  {
   "cell_type": "code",
   "execution_count": 2,
   "metadata": {},
   "outputs": [],
   "source": [
    "plt.show(1)"
   ]
  },
  {
   "cell_type": "code",
   "execution_count": null,
   "metadata": {},
   "outputs": [],
   "source": []
  }
 ],
 "metadata": {
  "kernelspec": {
   "display_name": "Python 3",
   "language": "python",
   "name": "python3"
  },
  "language_info": {
   "codemirror_mode": {
    "name": "ipython",
    "version": 3
   },
   "file_extension": ".py",
   "mimetype": "text/x-python",
   "name": "python",
   "nbconvert_exporter": "python",
   "pygments_lexer": "ipython3",
   "version": "3.7.1"
  }
 },
 "nbformat": 4,
 "nbformat_minor": 2
}
